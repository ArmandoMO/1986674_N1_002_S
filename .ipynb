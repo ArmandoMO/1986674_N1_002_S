{
  "cells": [
    {
      "cell_type": "markdown",
      "metadata": {
        "id": "view-in-github",
        "colab_type": "text"
      },
      "source": [
        "<a href=\"https://colab.research.google.com/github/ArmandoMO/Primer_Examen_Parcial_Sabatinos-/blob/main/.ipynb\" target=\"_parent\"><img src=\"https://colab.research.google.com/assets/colab-badge.svg\" alt=\"Open In Colab\"/></a>"
      ]
    },
    {
      "cell_type": "code",
      "source": [
        "numero_inicial = int(input(\"Ingrese cualquier numero: \"))\n",
        "sumatoria = 0\n",
        "for numero in range (numero_inicial):\n",
        "  sumatoria = sumatoria + (numero + 1)\n",
        "  print(\"La sumatoria de los numeros desde el numero inicial hasta el numero final es:\",sumatoria)\n",
        "\n"
      ],
      "metadata": {
        "id": "sjWqvPULYOiV"
      },
      "execution_count": null,
      "outputs": []
    },
    {
      "cell_type": "code",
      "source": [
        ""
      ],
      "metadata": {
        "id": "mhG3cbEyYLhb"
      },
      "execution_count": null,
      "outputs": []
    }
  ],
  "metadata": {
    "colab": {
      "collapsed_sections": [],
      "name": "Te damos la bienvenida a Colaboratory",
      "toc_visible": true,
      "provenance": [],
      "include_colab_link": true
    },
    "kernelspec": {
      "display_name": "Python 3",
      "name": "python3"
    }
  },
  "nbformat": 4,
  "nbformat_minor": 0
}