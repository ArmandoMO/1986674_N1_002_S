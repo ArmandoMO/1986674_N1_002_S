{
  "cells": [
    {
      "cell_type": "markdown",
      "metadata": {
        "id": "view-in-github",
        "colab_type": "text"
      },
      "source": [
        "<a href=\"https://colab.research.google.com/github/ArmandoMO/Primer_Examen_Parcial_Sabatinos-/blob/main/Primer_Examen_Parcial_Sabatinos.ipynb\" target=\"_parent\"><img src=\"https://colab.research.google.com/assets/colab-badge.svg\" alt=\"Open In Colab\"/></a>"
      ]
    },
    {
      "cell_type": "code",
      "source": [
        ""
      ],
      "metadata": {
        "id": "mhG3cbEyYLhb"
      },
      "execution_count": null,
      "outputs": []
    },
    {
      "cell_type": "code",
      "source": [
        "numero_inicial = int(input(\"Ingrese cualquier numero: \"))\n",
        "sumatoria = 0\n",
        "for numero in range (numero_inicial):\n",
        "  sumatoria = sumatoria + (numero + 1)\n",
        "  print(\"La sumatoria de los numeros desde el numero inicial hasta el numero final es:\",sumatoria)"
      ],
      "metadata": {
        "id": "m0RIgSYmgsID",
        "outputId": "d4a9a9e8-728b-4b18-aa27-1b751d3d988e",
        "colab": {
          "base_uri": "https://localhost:8080/"
        }
      },
      "execution_count": 5,
      "outputs": [
        {
          "output_type": "stream",
          "name": "stdout",
          "text": [
            "Ingrese cualquier numero: 12\n",
            "La sumatoria de los numeros desde el numero inicial hasta el numero final es: 1\n",
            "La sumatoria de los numeros desde el numero inicial hasta el numero final es: 3\n",
            "La sumatoria de los numeros desde el numero inicial hasta el numero final es: 6\n",
            "La sumatoria de los numeros desde el numero inicial hasta el numero final es: 10\n",
            "La sumatoria de los numeros desde el numero inicial hasta el numero final es: 15\n",
            "La sumatoria de los numeros desde el numero inicial hasta el numero final es: 21\n",
            "La sumatoria de los numeros desde el numero inicial hasta el numero final es: 28\n",
            "La sumatoria de los numeros desde el numero inicial hasta el numero final es: 36\n",
            "La sumatoria de los numeros desde el numero inicial hasta el numero final es: 45\n",
            "La sumatoria de los numeros desde el numero inicial hasta el numero final es: 55\n",
            "La sumatoria de los numeros desde el numero inicial hasta el numero final es: 66\n",
            "La sumatoria de los numeros desde el numero inicial hasta el numero final es: 78\n"
          ]
        }
      ]
    }
  ],
  "metadata": {
    "colab": {
      "collapsed_sections": [],
      "name": "Te damos la bienvenida a Colaboratory",
      "toc_visible": true,
      "provenance": [],
      "include_colab_link": true
    },
    "kernelspec": {
      "display_name": "Python 3",
      "name": "python3"
    }
  },
  "nbformat": 4,
  "nbformat_minor": 0
}