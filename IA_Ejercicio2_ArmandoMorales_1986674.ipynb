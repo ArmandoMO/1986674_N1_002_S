{
  "cells": [
    {
      "cell_type": "markdown",
      "metadata": {
        "id": "view-in-github",
        "colab_type": "text"
      },
      "source": [
        "<a href=\"https://colab.research.google.com/github/ArmandoMO/1986674_N1_002_S/blob/main/IA_Ejercicio2_ArmandoMorales_1986674.ipynb\" target=\"_parent\"><img src=\"https://colab.research.google.com/assets/colab-badge.svg\" alt=\"Open In Colab\"/></a>"
      ]
    },
    {
      "cell_type": "code",
      "source": [
        "margen=[\"*******\",\"*Hola *\",\"*a    *\",\"*todos*\",\"*esto *\",\"*es   *\",\"*un   *\",\"*marco*\",\"*******\"]\n",
        "for x in margen:\n",
        "  print (x)\n",
        "\n"
      ],
      "metadata": {
        "id": "vhYkAhxyvhdU",
        "outputId": "c61f600e-f6e4-4b9e-a328-ab22bd56168b",
        "colab": {
          "base_uri": "https://localhost:8080/"
        }
      },
      "execution_count": null,
      "outputs": [
        {
          "output_type": "stream",
          "name": "stdout",
          "text": [
            "*******\n",
            "*Hola *\n",
            "*a    *\n",
            "*todos*\n",
            "*esto *\n",
            "*es   *\n",
            "*un   *\n",
            "*marco*\n",
            "*******\n"
          ]
        }
      ]
    }
  ],
  "metadata": {
    "colab": {
      "collapsed_sections": [],
      "name": "Copia de Te damos la bienvenida a Colaboratory",
      "toc_visible": true,
      "provenance": [],
      "include_colab_link": true
    },
    "kernelspec": {
      "display_name": "Python 3",
      "name": "python3"
    }
  },
  "nbformat": 4,
  "nbformat_minor": 0
}