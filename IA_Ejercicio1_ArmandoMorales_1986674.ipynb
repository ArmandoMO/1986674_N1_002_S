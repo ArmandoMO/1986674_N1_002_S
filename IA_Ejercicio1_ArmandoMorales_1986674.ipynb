{
  "cells": [
    {
      "cell_type": "markdown",
      "metadata": {
        "id": "view-in-github",
        "colab_type": "text"
      },
      "source": [
        "<a href=\"https://colab.research.google.com/github/ArmandoMO/1986674_N1_002_S/blob/main/Ejercicio%201.ipynb\" target=\"_parent\"><img src=\"https://colab.research.google.com/assets/colab-badge.svg\" alt=\"Open In Colab\"/></a>"
      ]
    },
    {
      "cell_type": "markdown",
      "source": [
        "Ejercicios Basico en Python Armando Morales 1986674 N1"
      ],
      "metadata": {
        "id": "WMJwHJgHrZqp"
      }
    },
    {
      "cell_type": "code",
      "source": [
        "nombre = input (\"Introduce tu nombre\")\n",
        "if nombre == \"Ana\":\n",
        "  print(\"Hola\")\n",
        "else:\n",
        "  print(\"Hola\" + nombre)"
      ],
      "metadata": {
        "id": "B-GCzyETqYrw",
        "outputId": "9f35d21b-9043-4126-cfca-76b20c896252",
        "colab": {
          "base_uri": "https://localhost:8080/"
        }
      },
      "execution_count": null,
      "outputs": [
        {
          "output_type": "stream",
          "name": "stdout",
          "text": [
            "Introduce tu nombreAna\n",
            "Hola\n"
          ]
        }
      ]
    },
    {
      "cell_type": "code",
      "source": [
        "nombre = input (\"Introduce tu nombre\")\n",
        "if nombre == \"Pedro\":\n",
        "  print(\"Hola\")\n",
        "else:\n",
        "  print(\"Hola\" + nombre)"
      ],
      "metadata": {
        "colab": {
          "base_uri": "https://localhost:8080/"
        },
        "id": "7PpeAyw0rQs_",
        "outputId": "ec09e294-5480-4fa9-f700-368a4d3fe9f9"
      },
      "execution_count": null,
      "outputs": [
        {
          "output_type": "stream",
          "name": "stdout",
          "text": [
            "Introduce tu nombrePedro\n",
            "Hola\n"
          ]
        }
      ]
    },
    {
      "cell_type": "code",
      "source": [
        "nombre = input (\"Introduce tu nombre\")\n",
        "if nombre == \"Juan\":\n",
        "  print(\"Hola\")\n",
        "else:\n",
        "  print(\"Hola\" + nombre)"
      ],
      "metadata": {
        "colab": {
          "base_uri": "https://localhost:8080/"
        },
        "id": "diMCFq1PrWeC",
        "outputId": "147598c3-0500-4980-d2b6-d070974260be"
      },
      "execution_count": null,
      "outputs": [
        {
          "output_type": "stream",
          "name": "stdout",
          "text": [
            "Introduce tu nombreJuan\n",
            "Hola\n"
          ]
        }
      ]
    }
  ],
  "metadata": {
    "colab": {
      "collapsed_sections": [],
      "name": "Copia de Te damos la bienvenida a Colaboratory",
      "toc_visible": true,
      "provenance": [],
      "include_colab_link": true
    },
    "kernelspec": {
      "display_name": "Python 3",
      "name": "python3"
    }
  },
  "nbformat": 4,
  "nbformat_minor": 0
}
