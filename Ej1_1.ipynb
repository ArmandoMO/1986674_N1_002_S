{
  "cells": [
    {
      "cell_type": "markdown",
      "metadata": {
        "id": "view-in-github",
        "colab_type": "text"
      },
      "source": [
        "<a href=\"https://colab.research.google.com/github/ArmandoMO/Primer_Examen_Parcial_Sabatinos-/blob/main/Ej1_1.ipynb\" target=\"_parent\"><img src=\"https://colab.research.google.com/assets/colab-badge.svg\" alt=\"Open In Colab\"/></a>"
      ]
    },
    {
      "cell_type": "markdown",
      "source": [
        "Ejercicios basicos en Python Armando Morales 1986674 N1"
      ],
      "metadata": {
        "id": "4mOdXIYzmKxW"
      }
    },
    {
      "cell_type": "code",
      "source": [
        "nombre = input(\"Introduce tu nombre\")\n",
        "if nombre == \"Ana\":\n",
        "  print(\"Hola\"+\"!\")\n",
        "else:\n",
        "  print(\"Hola\" + nombre + \"!\")\n"
      ],
      "metadata": {
        "id": "i2_wYl1KcDEq",
        "outputId": "08479f31-0c62-4446-f142-017d4d1d7134",
        "colab": {
          "base_uri": "https://localhost:8080/"
        }
      },
      "execution_count": 36,
      "outputs": [
        {
          "output_type": "stream",
          "name": "stdout",
          "text": [
            "Introduce tu nombreJuan\n",
            "HolaJuan!\n"
          ]
        }
      ]
    }
  ],
  "metadata": {
    "colab": {
      "collapsed_sections": [],
      "name": "Te damos la bienvenida a Colaboratory",
      "toc_visible": true,
      "provenance": [],
      "include_colab_link": true
    },
    "kernelspec": {
      "display_name": "Python 3",
      "name": "python3"
    }
  },
  "nbformat": 4,
  "nbformat_minor": 0
}